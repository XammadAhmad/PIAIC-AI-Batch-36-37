{
 "cells": [
  {
   "cell_type": "markdown",
   "id": "1aa1a870",
   "metadata": {},
   "source": [
    "# Python class 1 \n",
    "\n",
    "# operation\n",
    "\n",
    " * oprand\n",
    " * operators"
   ]
  },
  {
   "cell_type": "code",
   "execution_count": 1,
   "id": "730c2065",
   "metadata": {},
   "outputs": [
    {
     "name": "stdout",
     "output_type": "stream",
     "text": [
      "12\n"
     ]
    }
   ],
   "source": [
    "print(5+7) # addition #print is pre-define function"
   ]
  },
  {
   "cell_type": "code",
   "execution_count": 2,
   "id": "81df2820",
   "metadata": {},
   "outputs": [
    {
     "name": "stdout",
     "output_type": "stream",
     "text": [
      "3\n"
     ]
    }
   ],
   "source": [
    "print(5-2) # subtraction"
   ]
  },
  {
   "cell_type": "code",
   "execution_count": 3,
   "id": "31db1c2a",
   "metadata": {},
   "outputs": [
    {
     "name": "stdout",
     "output_type": "stream",
     "text": [
      "10\n"
     ]
    }
   ],
   "source": [
    "print(5*2) # Multiplication"
   ]
  },
  {
   "cell_type": "code",
   "execution_count": 4,
   "id": "2df31319",
   "metadata": {},
   "outputs": [
    {
     "name": "stdout",
     "output_type": "stream",
     "text": [
      "2.5\n"
     ]
    }
   ],
   "source": [
    "print(5/2) # division"
   ]
  },
  {
   "cell_type": "code",
   "execution_count": 5,
   "id": "964bf6bb",
   "metadata": {},
   "outputs": [
    {
     "name": "stdout",
     "output_type": "stream",
     "text": [
      "25\n"
     ]
    }
   ],
   "source": [
    "print(5**2) # power"
   ]
  },
  {
   "cell_type": "code",
   "execution_count": 6,
   "id": "3d012399",
   "metadata": {},
   "outputs": [
    {
     "name": "stdout",
     "output_type": "stream",
     "text": [
      "2\n"
     ]
    }
   ],
   "source": [
    "print(5//2) #floor division"
   ]
  },
  {
   "cell_type": "code",
   "execution_count": 7,
   "id": "d79775ca",
   "metadata": {},
   "outputs": [
    {
     "name": "stdout",
     "output_type": "stream",
     "text": [
      "2\n"
     ]
    }
   ],
   "source": [
    "print(11%3) # modulus"
   ]
  },
  {
   "cell_type": "markdown",
   "id": "7778969e",
   "metadata": {},
   "source": [
    "# =equal operator\n",
    "* assign any value to variable(placeholder)\n",
    "* Variable name= value\n",
    " (value any data type)\n",
    "* String=\"----\""
   ]
  },
  {
   "cell_type": "code",
   "execution_count": 8,
   "id": "4f45c36e",
   "metadata": {},
   "outputs": [
    {
     "name": "stdout",
     "output_type": "stream",
     "text": [
      "PIAIC\n",
      "36 & 37\n",
      "Sir Muhammad Qasim\n",
      "9am to 12pm\n"
     ]
    }
   ],
   "source": [
    "School=\"PIAIC\"\n",
    "Batch=\"36 & 37\"\n",
    "Teacher=\"Sir Muhammad Qasim\"\n",
    "Timing=\"9am to 12pm\"\n",
    "\n",
    "print(School)\n",
    "print(Batch)\n",
    "print(Teacher)\n",
    "print(Timing)"
   ]
  },
  {
   "cell_type": "code",
   "execution_count": 9,
   "id": "ff53b172",
   "metadata": {},
   "outputs": [
    {
     "name": "stdout",
     "output_type": "stream",
     "text": [
      "Hammad Ahmad\n"
     ]
    }
   ],
   "source": [
    "name = \"Hammad Ahmad\"\n",
    "print(name)"
   ]
  },
  {
   "cell_type": "markdown",
   "id": "55c0e693",
   "metadata": {},
   "source": [
    "## use some pre- define functions\n",
    "* print()\n",
    "* type()\n",
    "* id()\n",
    "* len()"
   ]
  },
  {
   "cell_type": "code",
   "execution_count": 14,
   "id": "6deaa7ef",
   "metadata": {},
   "outputs": [
    {
     "name": "stdout",
     "output_type": "stream",
     "text": [
      "<class 'str'>\n",
      "1476484217008\n",
      "12\n"
     ]
    }
   ],
   "source": [
    "name = \"Hammad Ahmad\"\n",
    "print(type(name)) # data type\n",
    "print(id(name)) # memory address\n",
    "print(len(name)) # length(count number of character)"
   ]
  },
  {
   "cell_type": "code",
   "execution_count": null,
   "id": "1e07f389",
   "metadata": {},
   "outputs": [
    {
     "name": "stdout",
     "output_type": "stream",
     "text": [
      "1476484217776\n",
      "1476484217776\n"
     ]
    }
   ],
   "source": [
    "a=\"Pakistan\"\n",
    "b=\"Pakistan\"\n",
    "\n",
    "print(id(a))\n",
    "print(id(b))"
   ]
  },
  {
   "cell_type": "code",
   "execution_count": null,
   "id": "4da5a567",
   "metadata": {},
   "outputs": [],
   "source": []
  }
 ],
 "metadata": {
  "kernelspec": {
   "display_name": "Python 3.10.6 64-bit",
   "language": "python",
   "name": "python3"
  },
  "language_info": {
   "codemirror_mode": {
    "name": "ipython",
    "version": 3
   },
   "file_extension": ".py",
   "mimetype": "text/x-python",
   "name": "python",
   "nbconvert_exporter": "python",
   "pygments_lexer": "ipython3",
   "version": "3.10.6"
  },
  "vscode": {
   "interpreter": {
    "hash": "c299f61a463a24c3fe8a87041c098fd38147f0e226e3a63b3ba272c6bdb0cac2"
   }
  }
 },
 "nbformat": 4,
 "nbformat_minor": 5
}
